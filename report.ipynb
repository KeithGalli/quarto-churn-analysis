{
  "cells": [
    {
      "cell_type": "markdown",
      "metadata": {},
      "source": [
        "---\n",
        "format:\n",
        "  html:\n",
        "    embed-resources: true\n",
        "    page-layout: full\n",
        "    grid:\n",
        "      body-width: 1300px\n",
        "    fontsize: 18pt\n",
        "  pdf: default\n",
        "echo: false\n",
        "warning: false\n",
        "title: Telco Churn Analysis\n",
        "jupyter: python3\n",
        "toc: true\n",
        "---\n",
        "\n",
        "## Overview\n",
        "\n",
        "On the Alpha Consulting team, we have been tasked with investigating customer churn at Telco.\n",
        "\n",
        "In this report we will showcase some of the key findings from our analysis. We will also provide a high-level overview of the data, and discuss some of the key factors that are driving churn.\n",
        "\n",
        "At the end of the report we will provide some recommendations for how we can move forward as a business to help identify customers who are at risk of churning, and to help reduce churn rates.\n",
        "\n",
        "::: content-hidden\n",
        "### Import necessary libraries & load data\n",
        ":::"
      ]
    },
    {
      "cell_type": "code",
      "metadata": {},
      "source": [
        "import pandas as pd\n",
        "import numpy as np\n",
        "import matplotlib.pyplot as plt\n",
        "import seaborn as sns\n",
        "from pathlib import Path"
      ],
      "execution_count": null,
      "outputs": []
    },
    {
      "cell_type": "code",
      "metadata": {},
      "source": [
        "file = Path(\"__file__\").parent / \"telco-customer-churn.csv\"\n",
        "df = pd.read_csv(file)\n",
        "\n",
        "plt.style.use('seaborn-v0_8-talk')"
      ],
      "execution_count": null,
      "outputs": []
    },
    {
      "cell_type": "markdown",
      "metadata": {},
      "source": [
        "## Initial Data Exploration"
      ]
    },
    {
      "cell_type": "code",
      "metadata": {},
      "source": [
        "#| output: false\n",
        "df.info()"
      ],
      "execution_count": null,
      "outputs": []
    },
    {
      "cell_type": "code",
      "metadata": {},
      "source": [
        "#| column: body\n",
        "from itables import show\n",
        "\n",
        "show(df.head(50))"
      ],
      "execution_count": null,
      "outputs": []
    },
    {
      "cell_type": "markdown",
      "metadata": {},
      "source": [
        "### High-level overview of the data"
      ]
    },
    {
      "cell_type": "code",
      "metadata": {
        "fig-width": "100px"
      },
      "source": [
        "#| layout-ncol: 2\n",
        "#| column: page\n",
        "churn = df['Churn'].value_counts()\n",
        "plt.title('Count of Customer Churn')\n",
        "plt.bar(churn.index, churn.values)\n",
        "plt.show()\n",
        "\n",
        "pct_churn = df['Churn'].value_counts(normalize=True)\n",
        "plt.pie(pct_churn, labels=pct_churn.index, autopct='%1.1f%%')\n",
        "plt.show()"
      ],
      "execution_count": null,
      "outputs": []
    },
    {
      "cell_type": "markdown",
      "metadata": {},
      "source": [
        "## Understanding the Variables that causes churn\n",
        "\n",
        "### Numeric Features"
      ]
    },
    {
      "cell_type": "code",
      "metadata": {},
      "source": [
        "#| column: page\n",
        "#| fig-align: center\n",
        "numerical_features = ['tenure', 'MonthlyCharges', 'TotalCharges']\n",
        "fig, axes = plt.subplots(1, 3, figsize=(17, 5)) \n",
        "for i, feature in enumerate(numerical_features):\n",
        "    if feature == 'TotalCharges':\n",
        "        df[feature] = pd.to_numeric(df[feature], errors='coerce')  # Convert to numeric\n",
        "    sns.histplot(data=df, x=feature, hue='Churn', multiple=\"stack\", ax=axes[i])\n",
        "    axes[i].set_title(f'Distribution of {feature}')\n",
        "    if i > 0:\n",
        "        axes[i].set_ylabel('')\n",
        "plt.show()"
      ],
      "execution_count": null,
      "outputs": []
    },
    {
      "cell_type": "markdown",
      "metadata": {},
      "source": [
        "The most likely customers to churn are ones that have been with the company for a short period of time, and have higher monthly charges.\n",
        "\n",
        "The more money someone has spent with us, the less likely they are to churn.\n",
        "\n",
        "------------------------------------------------------------------------\n",
        "\n",
        "### Categorical Features\n",
        "\n",
        "::::: {layout=\"[39, -1, 60]\"}\n",
        "::: {#first-column}\n",
        "<br/>\n",
        "In these bar charts we observe a few different insights\n",
        "\n",
        "- Gender has little to no impact on churn\n",
        "- Seniors are more likely to churn\n",
        "- Customers without partners or dependents are more likely to churn\n",
        "- Phone Service has little to no impact on churn\n",
        "- Customers with Fiber Optic Internet Service are significantly more likely to churn\n",
        "- Customers with Month-to-Month contracts are significantly more likely to churn\n",
        ":::\n",
        "\n",
        "::: {#second-column}"
      ]
    },
    {
      "cell_type": "code",
      "metadata": {},
      "source": [
        "categorical_features = ['gender', 'SeniorCitizen', 'Partner', 'Dependents', 'PhoneService', 'InternetService', 'Contract']\n",
        "fig, axes = plt.subplots(7, 1, figsize=(8, 20))\n",
        "axes = axes.flatten()\n",
        "\n",
        "plt.rcParams.update({'font.size': 12})  # Increase base font size\n",
        "\n",
        "for i, feature in enumerate(categorical_features):\n",
        "    # Calculate percentages\n",
        "    percentages = (df.groupby(feature)['Churn']\n",
        "                    .value_counts(normalize=True)\n",
        "                    .unstack()\n",
        "                    .mul(100))\n",
        "    \n",
        "    # Create horizontal stacked bars\n",
        "    percentages.plot(kind='barh', \n",
        "                    stacked=True,\n",
        "                    ax=axes[i],\n",
        "                    legend=False,\n",
        "                    width=0.6)  # Changed from height to width\n",
        "    \n",
        "    # Customize the plot\n",
        "    axes[i].set_title(f'Churn Distribution by {feature}', fontsize=14, pad=-30)\n",
        "    # axes[i].set_ylabel(feature, fontsize=12)\n",
        "    \n",
        "    # Add percentage labels on the bars\n",
        "    for c in axes[i].containers:\n",
        "        axes[i].bar_label(c, fmt='%.1f%%', label_type='center', fontsize=11)\n",
        "    \n",
        "    # Remove x-axis percentage labels\n",
        "    axes[i].set_xticks([])\n",
        "    \n",
        "    # Add border around the subplot\n",
        "    for spine in axes[i].spines.values():\n",
        "        spine.set_visible(True)\n",
        "    \n",
        "    # Make tick labels larger\n",
        "    axes[i].tick_params(axis='both', which='major', labelsize=11)\n",
        "    \n",
        "    # Adjust plot to reduce white space\n",
        "    axes[i].margins(y=0.15)  # Reduce vertical margins\n",
        "\n",
        "# Remove empty subplots\n",
        "for j in range(i+1, len(axes)):\n",
        "    fig.delaxes(axes[j])\n",
        "\n",
        "plt.tight_layout()\n",
        "plt.show()"
      ],
      "execution_count": null,
      "outputs": []
    },
    {
      "cell_type": "markdown",
      "metadata": {},
      "source": [
        ":::\n",
        ":::::\n",
        "***\n",
        "\n",
        "### Why might internet service type matter?\n",
        "\n",
        "::: {layout=\"[70, 30]\"}"
      ]
    },
    {
      "cell_type": "code",
      "metadata": {},
      "source": [
        "# plt.figure(figsize=(10, 6))\n",
        "sns.scatterplot(data=df, x='MonthlyCharges', y='TotalCharges', hue='InternetService')\n",
        "plt.title('Scatter plot of Monthly Charges based on Internet Service type')\n",
        "plt.xlabel('Monthly Charges')\n",
        "plt.ylabel('Total Charges')\n",
        "plt.tight_layout()\n",
        "plt.show()"
      ],
      "execution_count": null,
      "outputs": []
    },
    {
      "cell_type": "markdown",
      "metadata": {},
      "source": [
        "<br/>\n",
        "Customers with Fiber optic internet service have higher monthly charges. This could be a reason why they are more likely to churn.\n",
        ":::"
      ]
    },
    {
      "cell_type": "code",
      "metadata": {},
      "source": [
        "#| output: false\n",
        "plt.figure(figsize=(10, 6))\n",
        "sns.scatterplot(data=df, x='Contract', y='MonthlyCharges', hue='Contract')\n",
        "plt.title('Scatter plot of Monthly Charges based on Contract type')\n",
        "plt.xlabel('Contract Type')\n",
        "plt.ylabel('Monthly Charges')\n",
        "plt.show()"
      ],
      "execution_count": null,
      "outputs": []
    },
    {
      "cell_type": "markdown",
      "metadata": {},
      "source": [
        "***\n",
        "\n",
        "### Looking at churn by type of contract\n",
        "As can be seen in the graphs below, customers with month-to-month contracts are significantly more likely to churn compared to customers with one or two year contracts. \n",
        "\n",
        "Even when someone has been with the company for a long time, their relative percentages on a month-to-month contract are still higher than those on a one-year or two-year contract that has just started."
      ]
    },
    {
      "cell_type": "code",
      "metadata": {},
      "source": [
        "def plot_churn_by_tenure(data, contract_type):\n",
        "    # Create the bins\n",
        "    bins = np.arange(0, data['tenure'].max() + 2, 2)  # +2 to include the last value\n",
        "    data['tenure_bin'] = pd.cut(data['tenure'], bins=bins)\n",
        "    \n",
        "    # Calculate percentage of churned customers in each bin\n",
        "    churn_by_tenure = (data.groupby('tenure_bin')['Churn']\n",
        "                          .value_counts(normalize=True)\n",
        "                          .unstack())\n",
        "    \n",
        "    # plt.figure(figsize=(12, 8))\n",
        "    churn_by_tenure['Yes'].multiply(100).plot(kind='bar')\n",
        "    plt.title(f'Percentage of Churned Customers by Tenure Length\\n{contract_type} Contracts')\n",
        "    plt.xlabel('Tenure (months)')\n",
        "    plt.ylabel('Churn Percentage')\n",
        "    plt.axhline(y=50, color='r', linestyle='--', alpha=0.3)\n",
        "    plt.grid(True, alpha=0.3)\n",
        "    plt.xticks(rotation=45)\n",
        "    plt.tight_layout()\n",
        "    plt.show()\n",
        "    \n",
        "    # Print statistics\n",
        "    # print(f\"\\nChurn percentage by tenure bins for {contract_type} contracts:\")\n",
        "    # print(churn_by_tenure['Yes'].multiply(100).round(1))\n",
        "\n",
        "# Create three dataframes\n",
        "monthly = df[df['Contract'] == 'Month-to-month']\n",
        "one_year = df[df['Contract'] == 'One year']\n",
        "two_year = df[df['Contract'] == 'Two year']"
      ],
      "execution_count": null,
      "outputs": []
    },
    {
      "cell_type": "markdown",
      "metadata": {},
      "source": [
        "::: {.column-screen-inset layout-ncol=\"3\"}"
      ]
    },
    {
      "cell_type": "code",
      "metadata": {},
      "source": [
        "plot_churn_by_tenure(monthly, 'Month-to-month')"
      ],
      "execution_count": null,
      "outputs": []
    },
    {
      "cell_type": "code",
      "metadata": {},
      "source": [
        "plot_churn_by_tenure(one_year, 'One year')"
      ],
      "execution_count": null,
      "outputs": []
    },
    {
      "cell_type": "code",
      "metadata": {},
      "source": [
        "plot_churn_by_tenure(two_year, 'Two year')  "
      ],
      "execution_count": null,
      "outputs": []
    },
    {
      "cell_type": "markdown",
      "metadata": {},
      "source": [
        ":::\n",
        "\n",
        "# Recommendations\n",
        "\n",
        "Based on our analysis, we have identified a few key areas that are driving churn:\n",
        "\n",
        "- **Tenure**: Customers who have been with the company for a short period of time are more likely to churn\n",
        "- **Monthly Charges**: Customers with higher monthly charges are more likely to churn\n",
        "- **Contract Type**: Customers with month-to-month contracts are significantly more likely to churn\n",
        "\n",
        "To reduce churn, we recommend the following:\n",
        "\n",
        "- **Promote longer contracts**: Encourage customers to sign up for longer contracts by offering discounts or other incentives\n",
        "- **Reduce monthly charges**: Consider offering lower-priced plans to customers who are at risk of churning\n",
        "- **Improve customer service**: Provide better customer service to customers who are at risk of churning to increase customer satisfaction. Spend more time with customers early on to help them understand the value of the service.\n",
        "\n",
        "Next steps from Alpha Consulting:\n",
        "\n",
        "- **Predictive modeling**: Build a predictive model to identify customers who are at risk of churning. This will allow us to take proactive steps to retain these customers."
      ]
    }
  ],
  "metadata": {
    "kernelspec": {
      "display_name": "Python 3",
      "language": "python",
      "name": "python3"
    }
  },
  "nbformat": 4,
  "nbformat_minor": 4
}