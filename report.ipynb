{
  "cells": [
    {
      "cell_type": "markdown",
      "metadata": {},
      "source": [
        "---\n",
        "format:\n",
        "  html:\n",
        "    embed-resources: true\n",
        "    page-layout: full\n",
        "    grid:\n",
        "      body-width: 1200px\n",
        "    fontsize: 18pt\n",
        "  pdf: default\n",
        "echo: false\n",
        "warning: false\n",
        "title: Telco Churn Analysis\n",
        "jupyter: python3\n",
        "---\n",
        "\n",
        "## Overview\n",
        "\n",
        "On the Alpha Consulting team, we have been tasked with investigating customer churn at Telco.\n",
        "\n",
        "In this report we will showcase some of the key findings from our analysis. We will also provide a high-level overview of the data, and discuss some of the key factors that are driving churn.\n",
        "\n",
        "At the end of the report we will provide some recommendations for how we can move forward as a business to help identify customers who are at risk of churning, and to help reduce churn rates.\n",
        "\n",
        "::: content-hidden\n",
        "### Import necessary libraries & load data\n",
        ":::"
      ]
    },
    {
      "cell_type": "code",
      "metadata": {},
      "source": [
        "import pandas as pd\n",
        "import numpy as np\n",
        "import matplotlib.pyplot as plt\n",
        "import seaborn as sns\n",
        "from pathlib import Path"
      ],
      "execution_count": null,
      "outputs": []
    },
    {
      "cell_type": "code",
      "metadata": {},
      "source": [
        "file = Path(\"__file__\").parent / \"telco-customer-churn.csv\"\n",
        "df = pd.read_csv(file)\n",
        "\n",
        "plt.style.use('seaborn-v0_8-talk')"
      ],
      "execution_count": null,
      "outputs": []
    },
    {
      "cell_type": "markdown",
      "metadata": {},
      "source": [
        "## Initial Data Exploration"
      ]
    },
    {
      "cell_type": "code",
      "metadata": {},
      "source": [
        "#| output: false\n",
        "df.info()"
      ],
      "execution_count": null,
      "outputs": []
    },
    {
      "cell_type": "code",
      "metadata": {},
      "source": [
        "#| fig-cap: Data Sample\n",
        "#| column: page\n",
        "from itables import show\n",
        "\n",
        "show(df.head(50))"
      ],
      "execution_count": null,
      "outputs": []
    },
    {
      "cell_type": "markdown",
      "metadata": {},
      "source": [
        "### High-level overview of the data"
      ]
    },
    {
      "cell_type": "code",
      "metadata": {
        "fig-width": "100px"
      },
      "source": [
        "#| layout-ncol: 2\n",
        "#| column: page\n",
        "churn = df['Churn'].value_counts()\n",
        "plt.title('Count of Customer Churn')\n",
        "plt.bar(churn.index, churn.values)\n",
        "plt.show()\n",
        "\n",
        "pct_churn = df['Churn'].value_counts(normalize=True)\n",
        "plt.pie(pct_churn, labels=pct_churn.index, autopct='%1.1f%%')\n",
        "plt.show()"
      ],
      "execution_count": null,
      "outputs": []
    },
    {
      "cell_type": "markdown",
      "metadata": {},
      "source": [
        "## Understanding the Variables that causes churn\n",
        "\n",
        "### Numeric Features"
      ]
    },
    {
      "cell_type": "code",
      "metadata": {
        "width": "100%",
        "fig-caption": "Distribution of numerical features"
      },
      "source": [
        "#| column: body-outset-left\n",
        "#| out-width: 100%\n",
        "#| fig-align: center\n",
        "numerical_features = ['tenure', 'MonthlyCharges', 'TotalCharges']\n",
        "fig, axes = plt.subplots(1, 3, figsize=(15, 5)) \n",
        "for i, feature in enumerate(numerical_features):\n",
        "    if feature == 'TotalCharges':\n",
        "        df[feature] = pd.to_numeric(df[feature], errors='coerce')  # Convert to numeric\n",
        "    sns.histplot(data=df, x=feature, hue='Churn', multiple=\"stack\", ax=axes[i])\n",
        "    axes[i].set_title(f'Distribution of {feature}')"
      ],
      "execution_count": null,
      "outputs": []
    },
    {
      "cell_type": "markdown",
      "metadata": {},
      "source": [
        "As you can see here there are some churned customers with high tenure, high monthly charges and high total charges. This is interesting because we would expect that customers with high tenure, low monthly charges and low total charges would be less likely to churn.\n",
        "\n",
        "------------------------------------------------------------------------\n",
        "\n",
        "### Categorical Features\n",
        "\n",
        "::::: {layout=\"[60, -1, 39]\"}\n",
        "::: {#first-column}"
      ]
    },
    {
      "cell_type": "code",
      "metadata": {},
      "source": [
        "categorical_features = ['gender', 'SeniorCitizen', 'Partner', 'Dependents', 'PhoneService', 'InternetService', 'Contract']\n",
        "fig, axes = plt.subplots(7, 1, figsize=(8, 20))\n",
        "axes = axes.flatten()\n",
        "\n",
        "plt.rcParams.update({'font.size': 12})  # Increase base font size\n",
        "\n",
        "for i, feature in enumerate(categorical_features):\n",
        "    # Calculate percentages\n",
        "    percentages = (df.groupby(feature)['Churn']\n",
        "                    .value_counts(normalize=True)\n",
        "                    .unstack()\n",
        "                    .mul(100))\n",
        "    \n",
        "    # Create horizontal stacked bars\n",
        "    percentages.plot(kind='barh', \n",
        "                    stacked=True,\n",
        "                    ax=axes[i],\n",
        "                    legend=False,\n",
        "                    width=0.6)  # Changed from height to width\n",
        "    \n",
        "    # Customize the plot\n",
        "    axes[i].set_title(f'Churn Distribution by {feature}', fontsize=14, pad=-30)\n",
        "    axes[i].set_ylabel(feature, fontsize=12)\n",
        "    \n",
        "    # Add percentage labels on the bars\n",
        "    for c in axes[i].containers:\n",
        "        axes[i].bar_label(c, fmt='%.1f%%', label_type='center', fontsize=11)\n",
        "    \n",
        "    # Remove x-axis percentage labels\n",
        "    axes[i].set_xticks([])\n",
        "    \n",
        "    # Add border around the subplot\n",
        "    for spine in axes[i].spines.values():\n",
        "        spine.set_visible(True)\n",
        "    \n",
        "    # Make tick labels larger\n",
        "    axes[i].tick_params(axis='both', which='major', labelsize=11)\n",
        "    \n",
        "    # Adjust plot to reduce white space\n",
        "    axes[i].margins(y=0.15)  # Reduce vertical margins\n",
        "\n",
        "# Remove empty subplots\n",
        "for j in range(i+1, len(axes)):\n",
        "    fig.delaxes(axes[j])\n",
        "\n",
        "plt.tight_layout()\n",
        "plt.show()"
      ],
      "execution_count": null,
      "outputs": []
    },
    {
      "cell_type": "markdown",
      "metadata": {},
      "source": [
        ":::\n",
        "\n",
        "::: {#second-column}\n",
        "In this graph we see a few different things\n",
        "\n",
        "- Thing 1\n",
        "- Thing 2\n",
        "- Thing 3\n",
        ":::\n",
        ":::::\n",
        "\n",
        "### Some more detailed analysis"
      ]
    },
    {
      "cell_type": "code",
      "metadata": {},
      "source": [
        "plt.figure(figsize=(10, 6))\n",
        "sns.scatterplot(data=df, x='MonthlyCharges', y='TotalCharges', hue='InternetService')\n",
        "plt.title('Scatter plot of Monthly Charges based on Internet Service type')\n",
        "plt.xlabel('Monthly Charges')\n",
        "plt.ylabel('Total Charges')\n",
        "plt.show()"
      ],
      "execution_count": null,
      "outputs": []
    },
    {
      "cell_type": "code",
      "metadata": {},
      "source": [
        "#| output: false\n",
        "plt.figure(figsize=(10, 6))\n",
        "sns.scatterplot(data=df, x='Contract', y='MonthlyCharges', hue='Contract')\n",
        "plt.title('Scatter plot of Monthly Charges based on Contract type')\n",
        "plt.xlabel('Contract Type')\n",
        "plt.ylabel('Monthly Charges')\n",
        "plt.show()"
      ],
      "execution_count": null,
      "outputs": []
    },
    {
      "cell_type": "code",
      "metadata": {},
      "source": [
        "def plot_churn_by_tenure(data, contract_type):\n",
        "    # Create the bins\n",
        "    bins = np.arange(0, data['tenure'].max() + 2, 2)  # +2 to include the last value\n",
        "    data['tenure_bin'] = pd.cut(data['tenure'], bins=bins)\n",
        "    \n",
        "    # Calculate percentage of churned customers in each bin\n",
        "    churn_by_tenure = (data.groupby('tenure_bin')['Churn']\n",
        "                          .value_counts(normalize=True)\n",
        "                          .unstack())\n",
        "    \n",
        "    plt.figure(figsize=(12, 8))\n",
        "    churn_by_tenure['Yes'].multiply(100).plot(kind='bar')\n",
        "    plt.title(f'Percentage of Churned Customers by Tenure Length\\n{contract_type} Contracts')\n",
        "    plt.xlabel('Tenure (months)')\n",
        "    plt.ylabel('Churn Percentage')\n",
        "    plt.axhline(y=50, color='r', linestyle='--', alpha=0.3)\n",
        "    plt.grid(True, alpha=0.3)\n",
        "    plt.xticks(rotation=45)\n",
        "    plt.tight_layout()\n",
        "    plt.show()\n",
        "    \n",
        "    # Print statistics\n",
        "    # print(f\"\\nChurn percentage by tenure bins for {contract_type} contracts:\")\n",
        "    # print(churn_by_tenure['Yes'].multiply(100).round(1))\n",
        "\n",
        "# Create three dataframes\n",
        "monthly = df[df['Contract'] == 'Month-to-month']\n",
        "one_year = df[df['Contract'] == 'One year']\n",
        "two_year = df[df['Contract'] == 'Two year']"
      ],
      "execution_count": null,
      "outputs": []
    },
    {
      "cell_type": "markdown",
      "metadata": {},
      "source": [
        "::: {.column-screen layout-ncol=\"3\"}"
      ]
    },
    {
      "cell_type": "code",
      "metadata": {},
      "source": [
        "plot_churn_by_tenure(monthly, 'Month-to-month')"
      ],
      "execution_count": null,
      "outputs": []
    },
    {
      "cell_type": "code",
      "metadata": {},
      "source": [
        "plot_churn_by_tenure(one_year, 'One year')"
      ],
      "execution_count": null,
      "outputs": []
    },
    {
      "cell_type": "code",
      "metadata": {},
      "source": [
        "plot_churn_by_tenure(two_year, 'Two year')  "
      ],
      "execution_count": null,
      "outputs": []
    },
    {
      "cell_type": "markdown",
      "metadata": {},
      "source": [
        ":::"
      ]
    }
  ],
  "metadata": {
    "kernelspec": {
      "display_name": "Python 3",
      "language": "python",
      "name": "python3"
    }
  },
  "nbformat": 4,
  "nbformat_minor": 4
}